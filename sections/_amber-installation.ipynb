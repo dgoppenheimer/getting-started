{
  "cells": [
    {
      "cell_type": "raw",
      "metadata": {},
      "source": [
        "---\n",
        "title: \"AmberTools Installation\"\n",
        "---"
      ],
      "id": "08362dd9"
    },
    {
      "cell_type": "markdown",
      "metadata": {},
      "source": [
        "We need to use the *Amber Tool*, `tleap`, to generate the IDP fragments to generate the fragment library. We will install the `conda` version of *AmberTools*.\n",
        "\n",
        "1. Go to the [Amber Download page](https://ambermd.org/GetAmber.php).\n",
        "2. Choose *Option 1: Binary distribution via conda*.\n",
        "3. Type the following into a Terminal:\n",
        "\n",
        "\n",
        "  ```{bash}\n",
        "  #| eval: false\n",
        "  conda create --name AmberTools23\n",
        "  conda activate AmberTools23\n",
        "  ```"
      ],
      "id": "9da5b6cb"
    }
  ],
  "metadata": {
    "kernelspec": {
      "display_name": "Python 3",
      "language": "python",
      "name": "python3"
    }
  },
  "nbformat": 4,
  "nbformat_minor": 5
}