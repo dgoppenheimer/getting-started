{
  "cells": [
    {
      "cell_type": "markdown",
      "metadata": {},
      "source": [
        "# Preface {.unnumbered}\n",
        "\n",
        "\n",
        "```{zsh}\n",
        "#| eval: false\n",
        "#| echo: false\n",
        "\n",
        "####  Transferring the site to GitHub  ####\n",
        "\n",
        "## Render the site locally.\n",
        "## Proofread carefully.\n",
        "## Commit changes to git locally.\n",
        "## Push changes to GitHub (main branch).\n",
        "## Run `quarto publish gh-pages` in the project root.\n",
        "## Refresh browser to see changes.\n",
        "## Bob's your uncle.\n",
        "\n",
        "```\n",
        "\n",
        "\n",
        "This site describes how to get your lab notebook.\n",
        "\n",
        "Go to the @sec-software-needed section to get started.\n",
        "\n",
        "Then take the @sec-gromacs-tutorial."
      ],
      "id": "92c35b74"
    }
  ],
  "metadata": {
    "kernelspec": {
      "display_name": "Python 3",
      "language": "python",
      "name": "python3"
    }
  },
  "nbformat": 4,
  "nbformat_minor": 5
}